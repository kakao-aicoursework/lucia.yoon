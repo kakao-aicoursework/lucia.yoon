{
 "cells": [
  {
   "cell_type": "code",
   "execution_count": 8,
   "metadata": {},
   "outputs": [],
   "source": [
    "# assistant: 저는 카카오 서비스 챗봇입니다.\n",
    "# You:반갑습니다.\n",
    "# AI assistant: 안녕하세요!반갑습니다. 도움이 필요하신 것이 있나요?\n",
    "# 처음 화면에 뜨도록 하기 , 수업 시간에 프롬프트, 백터DB, (function call)을 사용하도록.\n",
    "\n",
    "#on_sand 프롬프트 만들고, 백터 DB만들고, 유저 내용은 function call 로 ....\n"
   ]
  },
  {
   "cell_type": "code",
   "execution_count": 1,
   "metadata": {},
   "outputs": [],
   "source": [
    "import json\n",
    "import openai\n",
    "import tkinter as tk\n",
    "import pandas as pd\n",
    "from tkinter import scrolledtext\n",
    "import tkinter.filedialog as filedialog\n",
    "openai.api_key = ''"
   ]
  },
  {
   "cell_type": "code",
   "execution_count": 2,
   "metadata": {},
   "outputs": [],
   "source": [
    "from sklearn.feature_extraction.text import TfidfVectorizer\n",
    "import numpy as np\n",
    "import os\n",
    "import pickle\n"
   ]
  },
  {
   "cell_type": "code",
   "execution_count": 3,
   "metadata": {},
   "outputs": [],
   "source": [
    "with open(\"/Users/kakao/vs_code/AI_LLM/AI_LLM/project_data_카카오톡채널.txt\", \"r\") as f:\n",
    "    corpus = []\n",
    "    for line in f:\n",
    "        df = f.readlines()\n",
    "        corpus.append(df)"
   ]
  },
  {
   "cell_type": "code",
   "execution_count": 5,
   "metadata": {},
   "outputs": [],
   "source": [
    "import chromadb\n",
    "\n",
    "client = chromadb.PersistentClient()\n",
    "\n",
    "collection = client.get_or_create_collection(\n",
    "    name=\"kakao_chatbot\",\n",
    "    #metadata={\"hnsw:space\": \"cosine\"}# l2 is the default, metadata:유사도를 무엇으로 만드는지 설정하는 것, l2가 디폴트\n",
    ")\n"
   ]
  },
  {
   "cell_type": "code",
   "execution_count": 15,
   "metadata": {},
   "outputs": [],
   "source": [
    "# 데이터 인덱스\n",
    "ids = []\n",
    "# 메타데이터\n",
    "doc_meta = []\n",
    "# 벡터로 변환 저장할 텍스트 데이터로 ChromaDB에 Embedding 데이터가 없으면 자동으로 벡터로 변환해서 저장\n",
    "documents = []\n",
    "\n",
    "for idx, text in enumerate(corpus):\n",
    "    id = f\"#{idx + 1}\"  # #가 추가된 형태로 id 생성\n",
    "\n",
    "    document = f\"Document {idx + 1}:\\n#{text}\"\n",
    "    meta = {\n",
    "        \"index\": idx + 1  # 예시로 추가된 메타데이터 필드\n",
    "    }\n",
    "\n",
    "    ids.append(id)\n",
    "    doc_meta.append(meta)\n",
    "    documents.append(document)\n"
   ]
  },
  {
   "cell_type": "code",
   "execution_count": 17,
   "metadata": {},
   "outputs": [
    {
     "data": {
      "text/plain": [
       "['Document 1:\\n#[\\'\\\\n\\', \\'#이해하기\\\\n\\', \\'이 문서는 카카오톡 채널 API를 소개합니다.\\\\n\\', \\'\\\\n\\', \\'#기능 소개\\\\n\\', \\'카카오톡 채널(구:플러스친구)은 카카오톡 사용자들에게 다양한 서비스 소식을 메시지와 게시물 형태로 전파할 수 있는 서비스입니다. 카카오톡 채널은 친구인 사용자들에게 마케팅(Marketing) 메시지를 보내는 기능을 제공합니다. 친구란 카카오톡 채널을 친구로 추가한 사용자를 말합니다. 카카오톡 채널 메시지는 비용 절감을 위해 사용자의 성별, 나이, 지역, 등급 등 정보를 토대로 친구 그룹을 만들어서 보다 높은 효과가 기대되는 사용자들에게만 발송하는 것도 가능합니다.\\\\n\\', \\'카카오톡 채널을 활용하여 서비스와 사용자의 관계를 더욱 긴밀하게 유지할 수 있습니다. 예를 들면 카카오톡 채널 메시지를 통해 사용자에게 서비스 웹 페이지 방문을 유도하거나 유익한 상품 정보의 링크를 제공하는 것이 가능합니다. 1:1 채팅, 스마트채팅, 봇 등 유용한 추가 기능들도 이용할 수 있습니다.\\\\n\\', \\'\\\\n\\', \\'카카오톡 채널 API는 크게 두 가지의 기능을 제공합니다. 카카오톡 사용자를 위한 카카오톡 채널 추가 및 채팅 API, 다른 카카오톡 채널 관리자가 보다 편리하게 고객 그룹을 관리할 수 있도록 도와주는 카카오톡 채널 고객 관리 API가 있습니다. 두 API 모두 카카오톡 채널 프로필 ID를 사용해 요청하지만, 각각 역할과 제공 방식이 다릅니다.\\\\n\\', \\'\\\\n\\', \"카카오톡 채널 API를 사용하려면 앱과 카카오톡 채널이 연결되어 있어야 합니다. 또한 사용자의 \\'카카오톡 채널 추가 상태\\' 제공 동의가 필요합니다. 자세한 안내 및 설정 방법은 설정하기를 참고합니다.\\\\n\", \\'\\\\n\\', \\'참고: 카카오톡 채널 프로필 ID 확인 방법\\\\n\\', \\'[카카오톡 채널 관리자센터] > [관리] > [상세설정]에서 카카오톡 채널의 채널 URL을 확인할 수 있습니다. 채널 URL에서 https://pf.kakao.com/ 부분을 제외한 뒷자리 값이 해당 카카오톡 채널의 프로필 ID입니다. 다음 예시를 참고합니다.\\\\n\\', \\'\\\\n\\', \\'\\\\n\\', \\'#카카오톡 채널 추가와 채팅\\\\n\\', \\'Kakao SDK를 통해 제공되는 카카오톡 채널 추가와 채팅 API는 카카오톡 채널로 이동할 수 있는 연결 페이지(Bridge page)를 띄우는 기능입니다. 연결 페이지는 사용자 진입 시 카카오톡 채널로 이동할지 묻는 팝업을 띄우고, 사용자가 이동에 동의하면 커스텀 URL 스킴(Custom URL Scheme)을 통해 카카오톡을 실행하고 해당 카카오톡 채널 화면으로 이동합니다. 사용자는 카카오톡 채널 화면에서 해당 카카오톡 채널을 친구로 추가하거나 1:1 채팅을 시작할 수 있습니다.\\\\n\\', \\'\\\\n\\', \\'이 기능은 카카오톡 사용자만 이용할 수 있습니다. 카카오톡을 사용하지 않는 카카오계정으로 로그인한 사용자에게는 \"이 계정과 연결된 카카오톡이 없습니다.\"라는 문구가 포함된 안내 화면이 나타납니다.\\\\n\\', \\'\\\\n\\', \\'왜 사용자를 카카오톡으로 이동시키지 않고 연결 페이지만 띄우나요?\\\\n\\', \\'일부 플랫폼은 OS 정책상 사용자를 특정 애플리케이션으로 이동시키는 행위가 제한돼 있습니다. 사용자가 직접 특정 웹 페이지나 애플리케이션을 한 번 실행시키는 것까지는 문제없지만, 여러 차례 사용자를 임의로 이동시키는 건 정책상 문제가 될 수 있습니다. OS 정책에 따라 오픈마켓 리뷰가 거절(Reject)되는 경우와 같은 문제를 피하기 위해 이 API는 연결 페이지 실행 기능만 제공합니다.\\\\n\\', \\'\\\\n\\', \\'#카카오톡 채널 고객 관리\\\\n\\', \\'카카오톡 채널 고객 관리 API를 사용하여 카카오톡 채널 관리자센터에서 제공하는 카카오톡 채널 고객 파일 등록 및 관리 기능을 API 방식으로 이용할 수 있습니다.\\\\n\\', \\'\\\\n\\', \\'카카오톡 채널 고객 관리 API는 마케팅 시 보다 정교한 사용자 타게팅을 가능하게 합니다. 카카오 로그인이나 카카오싱크 간편가입을 적용한 서비스는 사용자 정보를 바탕으로 카카오톡 채널 고객 관리 API를 사용해 고객 파일을 등록하고, 해당 고객 파일을 대상으로 카카오톡 채널 관리자센터에서 원하는 조건에 따라 친구 그룹을 생성하여 타깃 메시지를 보낼 수 있습니다. 자세한 사항은 카카오톡 채널 관리자센터 공지사항을 참고합니다.\\\\n\\', \\'\\\\n\\', \\'이 기능은 REST API 방식으로만 제공되며, 서버에서만 호출해야 합니다. 설정하기(https://developers.kakao.com/docs/latest/ko/kakaotalk-channel/prerequisite#admin-api)와 REST API(https://developers.kakao.com/docs/latest/ko/kakaotalk-channel/rest-api)를 참고합니다.\\\\n\\', \\'\\\\n\\', \\'#더 효과적인 활용 방법\\\\n\\', \\'사용자가 카카오 로그인을 통해 서비스에 연결되면, 카카오톡 채널 관계 확인하기를 통해 각 사용자의 카카오톡 채널 추가 상태를 확인할 수 있습니다. 사용자의 카카오톡 채널 추가 상태에 따라 카카오톡 채널과 친구가 아닌 사용자에게 친구 추가를 유도하거나 고객 파일에서 사용자를 제외할 수 있습니다. \\\\n\\', \\'다음 url을 참고합니다.\\\\n\\', \\'\\\\n\\', \\'-REST API : https://developers.kakao.com/docs/latest/ko/kakaotalk-channel/rest-api#check-relationship\\\\n\\', \\'-JavaScript : https://developers.kakao.com/docs/latest/ko/kakaotalk-channel/js#check-relationship\\\\n\\', \\'-Android : https://developers.kakao.com/docs/latest/ko/kakaotalk-channel/android#check-relationship\\\\n\\', \\'-iOS : https://developers.kakao.com/docs/latest/ko/kakaotalk-channel/ios#check-relationship\\\\n\\', \\'\\\\n\\', \\'\\\\n\\', \\'이와 더불어 카카오톡 채널 관계 알림 기능을 적용하면 사용자가 서비스와 연결된 카카오톡 채널을 추가 또는 차단했을 때 알림을 받을 수 있습니다.\\\\n\\', \\'\\\\n\\', \\'앱과 연결된 카카오톡 채널을 추가한 사용자들에게 카카오톡 채널 메시지를 보낼 때, 현재 해당 카카오톡 채널을 차단한 사용자나 별도로 카카오톡에서 친구 추가한 사용자는 자체적으로 파악이 어려울 수 있습니다. 이 경우에도 채널 관계 알림을 사용하면 알림을 통해 변동 사항을 파악할 수 있습니다.\\\\n\\', \\'\\\\n\\', \\'카카오 로그인과 관계없이 [친구 추가] 버튼을 서비스에 노출하고 싶다면 Kakao SDK가 지원하는 카카오톡 채널 추가하기 기능을 사용합니다. 사용자는 서비스 이용 중 이 버튼을 눌러 쉽게 상담을 위한 1:1 대화를 시작할 수 있습니다.\\\\n\\', \\'\\\\n\\', \\'\\\\n\\', \\'#지원하는 기능\\\\n\\', \\'각 API 및 기능의 Kakao SDK 지원 여부는 지원 범위에서 확인할 수 있습니다.\\\\n\\', \\'\\\\n\\', \\'API 및 기능 : 설명 : 문서 URL\\\\n\\', \\'카카오톡 채널 추가하기 |사용자가 지정된 카카오톡 채널을 친구로 추가할 수 있는 연결 페이지를 제공합니다. | JavaScript:https://developers.kakao.com/docs/latest/ko/kakaotalk-channel/js#add-channel\\\\n\\', \\'카카오톡 채널 채팅하기 | 사용자가 지정된 카카오톡 채널과의 1:1 채팅방으로 진입할 수 있는 연결 페이지를 제공합니다. | JavaScript:https://developers.kakao.com/docs/latest/ko/kakaotalk-channel/js#add-chat\\\\n\\', \\'카카오톡 채널 관계 확인하기 | 현재 로그인한 사용자와 앱에 연결된 카카오톡 채널의 친구 관계를 확인합니다. | REST API: https://developers.kakao.com/docs/latest/ko/kakaotalk-channel/rest-api#check-relationship\\\\n\\', \\'여러 사용자 카카오톡 채널 관계 확인하기 | 앱에 연결된 카카오톡 채널과 여러 사용자의 친구 관계를 확인합니다. | REST API:https://developers.kakao.com/docs/latest/ko/kakaotalk-channel/rest-api#check-multiple-relationship\\\\n\\', \\'카카오톡 채널 관계 알림 | 사용자가 앱에 연결된 카카오톡 채널을 추가하거나 차단했을 때 서비스 서버에 알려줍니다. | 콜백:https://developers.kakao.com/docs/latest/ko/kakaotalk-channel/callback#relationship\\\\n\\', \\'고객 관리:고객 파일 등록하기 | 새로운 고객 파일을 만듭니다. | REST API:https://developers.kakao.com/docs/latest/ko/kakaotalk-channel/rest-api#create-user-file\\\\n\\', \\'고객 관리:고객 파일 보기 | 카카오톡 채널에 등록된 고객 파일 정보들을 확인합니다. | REST API:https://developers.kakao.com/docs/latest/ko/kakaotalk-channel/rest-api#view-user-file\\\\n\\', \\'고객 관리:사용자 추가하기 | 고객 파일에 사용자 정보를 추가합니다. | REST API:https://developers.kakao.com/docs/latest/ko/kakaotalk-channel/rest-api#add-user\\\\n\\', \\'고객 관리:사용자 삭제하기 | 카카오톡 채널에 등록된 고객 파일에서 특정 사용자를 삭제합니다. | REST API:https://developers.kakao.com/docs/latest/ko/kakaotalk-channel/rest-api#delete-user\\\\n\\']']"
      ]
     },
     "execution_count": 17,
     "metadata": {},
     "output_type": "execute_result"
    }
   ],
   "source": [
    "documents"
   ]
  },
  {
   "cell_type": "code",
   "execution_count": 5,
   "metadata": {},
   "outputs": [
    {
     "ename": "NameError",
     "evalue": "name 'filter_df' is not defined",
     "output_type": "error",
     "traceback": [
      "\u001b[0;31m---------------------------------------------------------------------------\u001b[0m",
      "\u001b[0;31mNameError\u001b[0m                                 Traceback (most recent call last)",
      "\u001b[0;32m/var/folders/lm/h7_976t54qs_mw32z98y8w180000gq/T/ipykernel_58520/272852133.py\u001b[0m in \u001b[0;36m<module>\u001b[0;34m\u001b[0m\n\u001b[1;32m      6\u001b[0m \u001b[0mdocuments\u001b[0m \u001b[0;34m=\u001b[0m \u001b[0;34m[\u001b[0m\u001b[0;34m]\u001b[0m\u001b[0;34m\u001b[0m\u001b[0;34m\u001b[0m\u001b[0m\n\u001b[1;32m      7\u001b[0m \u001b[0;34m\u001b[0m\u001b[0m\n\u001b[0;32m----> 8\u001b[0;31m \u001b[0;32mfor\u001b[0m \u001b[0midx\u001b[0m \u001b[0;32min\u001b[0m \u001b[0mrange\u001b[0m\u001b[0;34m(\u001b[0m\u001b[0mlen\u001b[0m\u001b[0;34m(\u001b[0m\u001b[0mfilter_df\u001b[0m\u001b[0;34m)\u001b[0m\u001b[0;34m)\u001b[0m\u001b[0;34m:\u001b[0m\u001b[0;34m\u001b[0m\u001b[0;34m\u001b[0m\u001b[0m\n\u001b[0m\u001b[1;32m      9\u001b[0m     \u001b[0mitem\u001b[0m \u001b[0;34m=\u001b[0m \u001b[0mfilter_df\u001b[0m\u001b[0;34m.\u001b[0m\u001b[0miloc\u001b[0m\u001b[0;34m[\u001b[0m\u001b[0midx\u001b[0m\u001b[0;34m]\u001b[0m\u001b[0;34m\u001b[0m\u001b[0;34m\u001b[0m\u001b[0m\n\u001b[1;32m     10\u001b[0m     \u001b[0mid\u001b[0m \u001b[0;34m=\u001b[0m \u001b[0mitem\u001b[0m\u001b[0;34m[\u001b[0m\u001b[0;34m'Name'\u001b[0m\u001b[0;34m]\u001b[0m\u001b[0;34m.\u001b[0m\u001b[0mlower\u001b[0m\u001b[0;34m(\u001b[0m\u001b[0;34m)\u001b[0m\u001b[0;34m.\u001b[0m\u001b[0mreplace\u001b[0m\u001b[0;34m(\u001b[0m\u001b[0;34m' '\u001b[0m\u001b[0;34m,\u001b[0m\u001b[0;34m'-'\u001b[0m\u001b[0;34m)\u001b[0m\u001b[0;34m\u001b[0m\u001b[0;34m\u001b[0m\u001b[0m\n",
      "\u001b[0;31mNameError\u001b[0m: name 'filter_df' is not defined"
     ]
    }
   ],
   "source": [
    "# 데이터 인덱스\n",
    "ids = []\n",
    "# 메타데이터\n",
    "doc_meta = []\n",
    "# 벡터로 변환 저장할 텍스트 데이터로 ChromaDB에 Embedding 데이터가 없으면 자동으로 벡터로 변환해서 저장\n",
    "documents = []\n",
    "\n",
    "for idx in range(len(filter_df)):\n",
    "    item = filter_df.iloc[idx]\n",
    "    id = item['Name'].lower().replace(' ','-')\n",
    "\n",
    "    document = f\"{item['Name']}: {item['Synopsis']} : {str(item['Cast']).strip().lower()} : {str(item['Genre']).strip().lower()}\"\n",
    "    meta = {\n",
    "        \"rating\" : item['Rating']\n",
    "    }\n",
    "\n",
    "    ids.append(id)\n",
    "    doc_meta.append(meta)\n",
    "    documents.append(document)\n",
    "\n",
    "# DB 저장\n",
    "collection.add(\n",
    "    documents=documents,\n",
    "    metadatas=doc_meta,\n",
    "    ids=ids\n",
    ")\n",
    "# # DB 쿼리\n",
    "# collection.query(\n",
    "#     query_texts=[\"romantic comedy drama\"],\n",
    "#     n_results=5,\n",
    "# )"
   ]
  },
  {
   "cell_type": "code",
   "execution_count": 4,
   "metadata": {},
   "outputs": [
    {
     "ename": "NameError",
     "evalue": "name 'collection' is not defined",
     "output_type": "error",
     "traceback": [
      "\u001b[0;31m---------------------------------------------------------------------------\u001b[0m",
      "\u001b[0;31mNameError\u001b[0m                                 Traceback (most recent call last)",
      "\u001b[0;32m/var/folders/lm/h7_976t54qs_mw32z98y8w180000gq/T/ipykernel_58520/2520874725.py\u001b[0m in \u001b[0;36m<module>\u001b[0;34m\u001b[0m\n\u001b[0;32m----> 1\u001b[0;31m response = collection.query(\n\u001b[0m\u001b[1;32m      2\u001b[0m    \u001b[0mquery_texts\u001b[0m\u001b[0;34m=\u001b[0m\u001b[0;34m[\u001b[0m\u001b[0;34m\"comedy drama\"\u001b[0m\u001b[0;34m]\u001b[0m\u001b[0;34m,\u001b[0m\u001b[0;34m\u001b[0m\u001b[0;34m\u001b[0m\u001b[0m\n\u001b[1;32m      3\u001b[0m     \u001b[0mn_results\u001b[0m\u001b[0;34m=\u001b[0m\u001b[0;36m10\u001b[0m\u001b[0;34m,\u001b[0m\u001b[0;34m\u001b[0m\u001b[0;34m\u001b[0m\u001b[0m\n\u001b[1;32m      4\u001b[0m )\n",
      "\u001b[0;31mNameError\u001b[0m: name 'collection' is not defined"
     ]
    }
   ],
   "source": [
    "response = collection.query(\n",
    "   query_texts=[\"comedy drama\"],\n",
    "    n_results=10,\n",
    ")"
   ]
  },
  {
   "cell_type": "code",
   "execution_count": 2,
   "metadata": {},
   "outputs": [],
   "source": [
    "def recommend_Drama(query:str, temperature=1,max_tokens=1024):\n",
    "    \n",
    "  response = collection.query(\n",
    "      query_texts = [query],\n",
    "      n_results=10,\n",
    "  )\n",
    "\n",
    "  srchres = [];\n",
    "  for v in response['documents'][0]:\n",
    "    item = v.split(':')\n",
    "    srchres.append({\n",
    "        \"title\" : item[0].strip(),\n",
    "        \"cast\" : item[2].strip(),\n",
    "        \"genre\" : item[3].strip(),\n",
    "    })\n",
    "\n",
    "    completion = openai.ChatCompletion.create(\n",
    "        model=\"gpt-3.5-turbo\",\n",
    "        messages=[\n",
    "            {\"role\": \"assistant\", \"content\": f\"srchres\"},\n",
    "            {\"role\": \"user\", \"content\": query},\n",
    "            {\"role\": \"system\", \"content\": \"제목, 출연진, 장르를 구분해서 알려줘. 마크다운 형식으로 알려줘.\"},\n",
    "\n",
    "        ],\n",
    "        temperature=temperature,\n",
    "        max_tokens=max_tokens,\n",
    "    )\n",
    "\n",
    "    return completion.choices[0].message.content"
   ]
  },
  {
   "cell_type": "code",
   "execution_count": 3,
   "metadata": {},
   "outputs": [
    {
     "ename": "NameError",
     "evalue": "name 'collection' is not defined",
     "output_type": "error",
     "traceback": [
      "\u001b[0;31m---------------------------------------------------------------------------\u001b[0m",
      "\u001b[0;31mNameError\u001b[0m                                 Traceback (most recent call last)",
      "\u001b[0;32m/var/folders/lm/h7_976t54qs_mw32z98y8w180000gq/T/ipykernel_58520/3541712033.py\u001b[0m in \u001b[0;36m<module>\u001b[0;34m\u001b[0m\n\u001b[0;32m----> 1\u001b[0;31m \u001b[0mres\u001b[0m \u001b[0;34m=\u001b[0m \u001b[0mrecommend_Drama\u001b[0m\u001b[0;34m(\u001b[0m\u001b[0;34m\"한국 코미디 드라마 10개 추천 해 줘.\"\u001b[0m\u001b[0;34m)\u001b[0m\u001b[0;34m\u001b[0m\u001b[0;34m\u001b[0m\u001b[0m\n\u001b[0m\u001b[1;32m      2\u001b[0m \u001b[0;34m\u001b[0m\u001b[0m\n\u001b[1;32m      3\u001b[0m \u001b[0mprint\u001b[0m\u001b[0;34m(\u001b[0m\u001b[0mres\u001b[0m\u001b[0;34m)\u001b[0m\u001b[0;34m\u001b[0m\u001b[0;34m\u001b[0m\u001b[0m\n",
      "\u001b[0;32m/var/folders/lm/h7_976t54qs_mw32z98y8w180000gq/T/ipykernel_58520/1936357511.py\u001b[0m in \u001b[0;36mrecommend_Drama\u001b[0;34m(query, temperature, max_tokens)\u001b[0m\n\u001b[1;32m      1\u001b[0m \u001b[0;32mdef\u001b[0m \u001b[0mrecommend_Drama\u001b[0m\u001b[0;34m(\u001b[0m\u001b[0mquery\u001b[0m\u001b[0;34m:\u001b[0m\u001b[0mstr\u001b[0m\u001b[0;34m,\u001b[0m \u001b[0mtemperature\u001b[0m\u001b[0;34m=\u001b[0m\u001b[0;36m1\u001b[0m\u001b[0;34m,\u001b[0m\u001b[0mmax_tokens\u001b[0m\u001b[0;34m=\u001b[0m\u001b[0;36m1024\u001b[0m\u001b[0;34m)\u001b[0m\u001b[0;34m:\u001b[0m\u001b[0;34m\u001b[0m\u001b[0;34m\u001b[0m\u001b[0m\n\u001b[1;32m      2\u001b[0m \u001b[0;34m\u001b[0m\u001b[0m\n\u001b[0;32m----> 3\u001b[0;31m   response = collection.query(\n\u001b[0m\u001b[1;32m      4\u001b[0m       \u001b[0mquery_texts\u001b[0m \u001b[0;34m=\u001b[0m \u001b[0;34m[\u001b[0m\u001b[0mquery\u001b[0m\u001b[0;34m]\u001b[0m\u001b[0;34m,\u001b[0m\u001b[0;34m\u001b[0m\u001b[0;34m\u001b[0m\u001b[0m\n\u001b[1;32m      5\u001b[0m       \u001b[0mn_results\u001b[0m\u001b[0;34m=\u001b[0m\u001b[0;36m10\u001b[0m\u001b[0;34m,\u001b[0m\u001b[0;34m\u001b[0m\u001b[0;34m\u001b[0m\u001b[0m\n",
      "\u001b[0;31mNameError\u001b[0m: name 'collection' is not defined"
     ]
    }
   ],
   "source": [
    "res = recommend_Drama(\"한국 코미디 드라마 10개 추천 해 줘.\")\n",
    "\n",
    "print(res)"
   ]
  },
  {
   "cell_type": "code",
   "execution_count": null,
   "metadata": {},
   "outputs": [],
   "source": []
  }
 ],
 "metadata": {
  "kernelspec": {
   "display_name": "Python 3.10.12 ('cs-analysis')",
   "language": "python",
   "name": "python3"
  },
  "language_info": {
   "codemirror_mode": {
    "name": "ipython",
    "version": 3
   },
   "file_extension": ".py",
   "mimetype": "text/x-python",
   "name": "python",
   "nbconvert_exporter": "python",
   "pygments_lexer": "ipython3",
   "version": "3.10.12"
  },
  "orig_nbformat": 4,
  "vscode": {
   "interpreter": {
    "hash": "605fb24626e5d9dde86fb4511df1db7e98c0db454ef87401d4ffa2d92a62c0b9"
   }
  }
 },
 "nbformat": 4,
 "nbformat_minor": 2
}
